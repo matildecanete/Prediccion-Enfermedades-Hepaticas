{
  "nbformat": 4,
  "nbformat_minor": 0,
  "metadata": {
    "colab": {
      "provenance": [],
      "authorship_tag": "ABX9TyNVT+YTC+Kb2gCSB8HyfC89",
      "include_colab_link": true
    },
    "kernelspec": {
      "name": "python3",
      "display_name": "Python 3"
    },
    "language_info": {
      "name": "python"
    }
  },
  "cells": [
    {
      "cell_type": "markdown",
      "metadata": {
        "id": "view-in-github",
        "colab_type": "text"
      },
      "source": [
        "<a href=\"https://colab.research.google.com/github/matildecanete/Proyecto-Enfermedades-Hepaticas/blob/main/Diccionario_de_datos_Enfermedades_Hepaticas.ipynb\" target=\"_parent\"><img src=\"https://colab.research.google.com/assets/colab-badge.svg\" alt=\"Open In Colab\"/></a>"
      ]
    },
    {
      "cell_type": "markdown",
      "source": [
        "Este conjunto de datos es sintético y tiene el propósito de mostrar los factores que influyen en la salud hepática, los cuales abarcan indicadores demográficos, de estilo de vida y de salud.\n",
        "\n",
        "- Descripción de las variables del conjunto de datos:\n",
        "\n",
        "     - Age: Rango: 20 a 80 años.\n",
        "     - Gender: Masculino (0) o Femenino (1).\n",
        "     - BMI (IMC): Rango: 15 to 40.\n",
        "     - Alcohol Consumption: Rango: 0 a 20 unidades por semana.\n",
        "     - Smoking: No (0) o Si (1).\n",
        "     - Genetic Risk: Bajo (0), Medio (1), Alto (2).\n",
        "     - Physical Activity: Rango: 0 to 10 horas por semana.\n",
        "     - Diabetes: No (0) o Si (1).\n",
        "     - Hypertension: No (0) o Si (1).\n",
        "     - Liver Function Test: Rango: 20 to 100.\n",
        "     - Diagnosis: Indicador binario (0 or 1) de presencia de enfermedad hepática."
      ],
      "metadata": {
        "id": "zEdfslcen9Vf"
      }
    },
    {
      "cell_type": "markdown",
      "source": [
        "Fuente:\n",
        "\n",
        "https://www.kaggle.com/datasets/rabieelkharoua/predict-liver-disease-1700-records-dataset"
      ],
      "metadata": {
        "id": "ezmfkhHPpdlF"
      }
    }
  ]
}